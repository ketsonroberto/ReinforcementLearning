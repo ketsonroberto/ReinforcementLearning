{
 "cells": [
  {
   "cell_type": "code",
   "execution_count": 1,
   "id": "889f1636",
   "metadata": {},
   "outputs": [
    {
     "name": "stdout",
     "output_type": "stream",
     "text": [
      "['_', '_', '_']\n",
      "['_', '_', '_']\n",
      "['_', '_', '_']\n",
      "[[0. 0. 0.]\n",
      " [0. 0. 0.]\n",
      " [0. 0. 0.]]\n",
      "[[0. 0. 0.]\n",
      " [0. 0. 0.]\n",
      " [0. 0. 0.]]\n"
     ]
    }
   ],
   "source": [
    "import numpy as np\n",
    "from environment import environment\n",
    "\n",
    "env = environment(base=3, random_state=211)\n",
    "#env.create_environment()\n",
    "env.print_board(env.current_state)\n",
    "print(env.current_state)\n",
    "print(env.next_state)"
   ]
  },
  {
   "cell_type": "code",
   "execution_count": 13,
   "id": "be8bec5b",
   "metadata": {},
   "outputs": [
    {
     "name": "stdout",
     "output_type": "stream",
     "text": [
      "It is not your time to play, let your opponent have fun too!\n",
      "['O', '_', 'O']\n",
      "['X', 'O', 'O']\n",
      "['X', 'X', 'X']\n",
      " \n",
      "['O', '_', 'O']\n",
      "['X', 'O', 'O']\n",
      "['X', 'X', 'X']\n",
      "[[2. 0. 2.]\n",
      " [1. 2. 2.]\n",
      " [1. 1. 1.]]\n"
     ]
    }
   ],
   "source": [
    "env.single_play((0,1,'O'), env.next_state)\n",
    "env.print_board(env.current_state)\n",
    "print(' ')\n",
    "env.print_board(env.next_state)\n",
    "print(env.next_state)"
   ]
  },
  {
   "cell_type": "code",
   "execution_count": 25,
   "id": "f6d8f12f",
   "metadata": {},
   "outputs": [],
   "source": [
    "env.reset()"
   ]
  },
  {
   "cell_type": "code",
   "execution_count": 2,
   "id": "8c5c16d5",
   "metadata": {},
   "outputs": [
    {
     "name": "stdout",
     "output_type": "stream",
     "text": [
      "╔═══╤═══╤═══╦═══╤═══╤═══╦═══╤═══╤═══╗\n",
      "║ 4 │ 5 │ 3 ║ 1 │ 2 │ 9 ║ 8 │ 7 │ 6 ║\n",
      "╟───┼───┼───╫───┼───┼───╫───┼───┼───╢\n",
      "║ 6 │ 7 │ 8 ║ 5 │ 4 │ 3 ║ 2 │ 1 │ 9 ║\n",
      "╟───┼───┼───╫───┼───┼───╫───┼───┼───╢\n",
      "║ 9 │ 1 │ 2 ║ 7 │ 8 │ 6 ║ 4 │ 5 │ 3 ║\n",
      "╠═══╪═══╪═══╬═══╪═══╪═══╬═══╪═══╪═══╣\n",
      "║   │ 2 │ 6 ║   │ 3 │ 7 ║ 9 │ 4 │ 5 ║\n",
      "╟───┼───┼───╫───┼───┼───╫───┼───┼───╢\n",
      "║ 5 │ 4 │ 1 ║ 8 │ 6 │ 2 ║ 3 │   │ 7 ║\n",
      "╟───┼───┼───╫───┼───┼───╫───┼───┼───╢\n",
      "║ 7 │   │   ║ 4 │ 9 │ 5 ║ 6 │ 8 │ 1 ║\n",
      "╠═══╪═══╪═══╬═══╪═══╪═══╬═══╪═══╪═══╣\n",
      "║ 2 │ 6 │ 7 ║ 3 │ 5 │ 8 ║ 1 │ 9 │ 4 ║\n",
      "╟───┼───┼───╫───┼───┼───╫───┼───┼───╢\n",
      "║ 8 │ 3 │ 4 ║ 9 │   │ 1 ║ 7 │ 6 │ 2 ║\n",
      "╟───┼───┼───╫───┼───┼───╫───┼───┼───╢\n",
      "║ 1 │ 9 │   ║ 6 │ 7 │ 4 ║ 5 │ 3 │ 8 ║\n",
      "╚═══╧═══╧═══╩═══╧═══╧═══╩═══╧═══╧═══╝\n"
     ]
    }
   ],
   "source": [
    "from agent_monte_carlo import agent\n",
    "\n",
    "env = environment(known_num=40, random_state=211)\n",
    "env.create_environment()\n",
    "\n",
    "for i in range(300):\n",
    "    player = agent(environment=env, random_state=None)\n",
    "    r = player.play_game()\n",
    "\n",
    "    \n",
    "player.environment.print_board(env.next_state)"
   ]
  },
  {
   "cell_type": "code",
   "execution_count": 5,
   "id": "4341745a",
   "metadata": {},
   "outputs": [
    {
     "name": "stdout",
     "output_type": "stream",
     "text": [
      "42 True\n",
      "42 True\n",
      "42 True\n",
      "42 True\n",
      "42 True\n",
      "42 True\n",
      "42 True\n",
      "42 True\n",
      "42 True\n",
      "42 True\n",
      "42 True\n",
      "42 True\n",
      "42 True\n",
      "42 True\n",
      "42 True\n",
      "42 True\n",
      "42 True\n",
      "42 True\n",
      "42 True\n",
      "42 True\n",
      "42 True\n",
      "42 True\n",
      "42 True\n",
      "42 True\n",
      "42 True\n",
      "42 True\n",
      "42 True\n",
      "42 True\n",
      "42 True\n",
      "42 True\n",
      "42 True\n",
      "42 True\n",
      "42 True\n",
      "42 True\n",
      "42 True\n",
      "42 True\n",
      "42 True\n",
      "42 True\n",
      "42 True\n",
      "42 True\n",
      "╔═══╤═══╤═══╦═══╤═══╤═══╦═══╤═══╤═══╗\n",
      "║   │ 5 │   ║ 1 │ 8 │ 9 ║   │ 7 │ 6 ║\n",
      "╟───┼───┼───╫───┼───┼───╫───┼───┼───╢\n",
      "║ 6 │   │ 8 ║ 5 │ 4 │ 3 ║   │ 1 │   ║\n",
      "╟───┼───┼───╫───┼───┼───╫───┼───┼───╢\n",
      "║   │ 1 │ 2 ║   │   │ 6 ║   │ 5 │ 3 ║\n",
      "╠═══╪═══╪═══╬═══╪═══╪═══╬═══╪═══╪═══╣\n",
      "║   │   │ 6 ║   │ 1 │ 7 ║ 9 │ 8 │ 5 ║\n",
      "╟───┼───┼───╫───┼───┼───╫───┼───┼───╢\n",
      "║ 5 │   │ 9 ║ 2 │ 6 │   ║ 3 │ 4 │   ║\n",
      "╟───┼───┼───╫───┼───┼───╫───┼───┼───╢\n",
      "║ 7 │ 8 │   ║ 4 │ 9 │ 5 ║ 6 │   │ 1 ║\n",
      "╠═══╪═══╪═══╬═══╪═══╪═══╬═══╪═══╪═══╣\n",
      "║ 2 │ 6 │ 7 ║ 3 │ 5 │ 8 ║ 1 │ 9 │ 4 ║\n",
      "╟───┼───┼───╫───┼───┼───╫───┼───┼───╢\n",
      "║ 8 │ 3 │ 1 ║   │   │   ║ 7 │ 6 │ 2 ║\n",
      "╟───┼───┼───╫───┼───┼───╫───┼───┼───╢\n",
      "║   │ 9 │ 4 ║ 6 │ 7 │ 1 ║ 5 │ 3 │   ║\n",
      "╚═══╧═══╧═══╩═══╧═══╧═══╩═══╧═══╧═══╝\n"
     ]
    }
   ],
   "source": [
    "from agent_monte_carlo import agent\n",
    "\n",
    "#env = environment(known_num=40, random_state=211)\n",
    "#env.create_environment()\n",
    "\n",
    "gamma = 1\n",
    "\n",
    "#for i in range(3000):\n",
    "#    player = agent(environment=env, random_state=None)\n",
    "#    player.play_game()\n",
    "\n",
    "total_reward = []\n",
    "for i in range(50000):\n",
    "    count = 0\n",
    "    boolean = True\n",
    "    \n",
    "    env = environment(known_num=40, random_state=211)\n",
    "    env.create_environment()\n",
    "    \n",
    "    sr = 0\n",
    "    k = 0\n",
    "    while boolean:\n",
    "        player = agent(environment=env, random_state=None)\n",
    "        r = player.play_game()\n",
    "\n",
    "        if player.game_over or player.win:\n",
    "            boolean = False\n",
    "\n",
    "        count += 1\n",
    "        sr += (gamma ** k) * r\n",
    "        k += 1\n",
    "    \n",
    "    total_reward.append(sr)\n",
    "    #print(sr)\n",
    "    if player.win:\n",
    "        print(count, player.win)\n",
    "        #player.environment.print_board(env.next_state)\n",
    "\n",
    "#print(count, sr, player.win, player.game_over)\n",
    "player.environment.print_board(env.next_state)\n"
   ]
  },
  {
   "cell_type": "code",
   "execution_count": 6,
   "id": "9b95d504",
   "metadata": {},
   "outputs": [
    {
     "data": {
      "text/plain": [
       "[<matplotlib.lines.Line2D at 0x7fb4e90fb2e0>]"
      ]
     },
     "execution_count": 6,
     "metadata": {},
     "output_type": "execute_result"
    },
    {
     "data": {
      "image/png": "[encoded data removed]",
      "text/plain": [
       "<Figure size 432x288 with 1 Axes>"
      ]
     },
     "metadata": {
      "needs_background": "light"
     },
     "output_type": "display_data"
    }
   ],
   "source": [
    "import matplotlib.pyplot as plt\n",
    "\n",
    "plt.plot(total_reward,'.')"
   ]
  },
  {
   "cell_type": "code",
   "execution_count": 13,
   "id": "f2d06027",
   "metadata": {},
   "outputs": [
    {
     "data": {
      "text/plain": [
       "1"
      ]
     },
     "execution_count": 13,
     "metadata": {},
     "output_type": "execute_result"
    }
   ],
   "source": [
    "len(set([1,1,1]))"
   ]
  },
  {
   "cell_type": "code",
   "execution_count": null,
   "id": "fb07c60d",
   "metadata": {},
   "outputs": [],
   "source": []
  }
 ],
 "metadata": {
  "kernelspec": {
   "display_name": "Python 3 (ipykernel)",
   "language": "python",
   "name": "python3"
  },
  "language_info": {
   "codemirror_mode": {
    "name": "ipython",
    "version": 3
   },
   "file_extension": ".py",
   "mimetype": "text/x-python",
   "name": "python",
   "nbconvert_exporter": "python",
   "pygments_lexer": "ipython3",
   "version": "3.9.6"
  }
 },
 "nbformat": 4,
 "nbformat_minor": 5
}
